{
  "nbformat": 4,
  "nbformat_minor": 0,
  "metadata": {
    "colab": {
      "provenance": [],
      "authorship_tag": "ABX9TyPlV2h/1kbKhE0BgZpFwr/Y",
      "include_colab_link": true
    },
    "kernelspec": {
      "name": "python3",
      "display_name": "Python 3"
    },
    "language_info": {
      "name": "python"
    }
  },
  "cells": [
    {
      "cell_type": "markdown",
      "metadata": {
        "id": "view-in-github",
        "colab_type": "text"
      },
      "source": [
        "<a href=\"https://colab.research.google.com/github/siddhraj-sinh/Resume-Screening/blob/main/ResumeScreening.ipynb\" target=\"_parent\"><img src=\"https://colab.research.google.com/assets/colab-badge.svg\" alt=\"Open In Colab\"/></a>"
      ]
    },
    {
      "cell_type": "code",
      "execution_count": 37,
      "metadata": {
        "colab": {
          "base_uri": "https://localhost:8080/"
        },
        "id": "fR3cD_wQmJ1_",
        "outputId": "de71398b-276e-4dcb-f951-730ae3307edc"
      },
      "outputs": [
        {
          "output_type": "stream",
          "name": "stdout",
          "text": [
            "Looking in indexes: https://pypi.org/simple, https://us-python.pkg.dev/colab-wheels/public/simple/\n",
            "Requirement already satisfied: docx2txt in /usr/local/lib/python3.7/dist-packages (0.8)\n"
          ]
        }
      ],
      "source": [
        "!pip install docx2txt \n",
        "import docx2txt"
      ]
    },
    {
      "cell_type": "code",
      "source": [
        "!pip install PyPDF2\n",
        "import PyPDF2"
      ],
      "metadata": {
        "colab": {
          "base_uri": "https://localhost:8080/"
        },
        "id": "8q4DaS4poTgX",
        "outputId": "ae3198b9-1ec4-476f-92fe-b0a30b60a6ec"
      },
      "execution_count": 38,
      "outputs": [
        {
          "output_type": "stream",
          "name": "stdout",
          "text": [
            "Looking in indexes: https://pypi.org/simple, https://us-python.pkg.dev/colab-wheels/public/simple/\n",
            "Requirement already satisfied: PyPDF2 in /usr/local/lib/python3.7/dist-packages (2.10.4)\n",
            "Requirement already satisfied: typing-extensions>=3.10.0.0 in /usr/local/lib/python3.7/dist-packages (from PyPDF2) (4.1.1)\n"
          ]
        }
      ]
    },
    {
      "cell_type": "code",
      "source": [
        "job_description='/content/JD-trainee Engineer.docx'\n",
        "resume = '/content/Siddharajsinh Rathod-ICT.pdf'\n",
        "\n",
        "JD_txt = docx2txt.process(job_description)\n",
        "\n",
        "# creating a pdf file object\n",
        "pdfFileObj = open(resume,'rb')\n",
        "  \n",
        "# creating a pdf reader object\n",
        "pdfReader = PyPDF2.PdfFileReader(pdfFileObj)\n",
        "    \n",
        "# creating a page object\n",
        "pageObj = pdfReader.getPage(0)\n",
        "  \n",
        "# extracting text from page\n",
        "resume_txt = pageObj.extractText() \n",
        "  \n",
        "# closing the pdf file object\n",
        "pdfFileObj.close()\n"
      ],
      "metadata": {
        "id": "zzpRIEirmZIw"
      },
      "execution_count": 39,
      "outputs": []
    },
    {
      "cell_type": "code",
      "source": [
        "content = [JD_txt,resume_txt]"
      ],
      "metadata": {
        "id": "hEeExsTvooRZ"
      },
      "execution_count": 40,
      "outputs": []
    },
    {
      "cell_type": "code",
      "source": [
        "from sklearn.feature_extraction.text import CountVectorizer\n",
        "\n",
        "cv = CountVectorizer()\n",
        "\n",
        "matrix = cv.fit_transform(content)\n",
        "\n",
        "#Printing the identified Unique words along with their indices\n",
        "#print(cv.vocabulary_)"
      ],
      "metadata": {
        "id": "nn66qNwpphHQ"
      },
      "execution_count": 51,
      "outputs": []
    },
    {
      "cell_type": "code",
      "source": [
        "from sklearn.metrics.pairwise import cosine_similarity\n",
        "\n",
        "similarity_matrix =  cosine_similarity(matrix)"
      ],
      "metadata": {
        "id": "XKLk1dOApyKG"
      },
      "execution_count": 42,
      "outputs": []
    },
    {
      "cell_type": "code",
      "source": [
        "print(similarity_matrix)"
      ],
      "metadata": {
        "colab": {
          "base_uri": "https://localhost:8080/"
        },
        "id": "mj930EJcqQ-H",
        "outputId": "31c57da4-3deb-4cc7-c5d4-e918228eebae"
      },
      "execution_count": 43,
      "outputs": [
        {
          "output_type": "stream",
          "name": "stdout",
          "text": [
            "[[1.         0.32301219]\n",
            " [0.32301219 1.        ]]\n"
          ]
        }
      ]
    },
    {
      "cell_type": "code",
      "source": [
        "match = similarity_matrix[0][1] * 100\n",
        "print('resume matches by',match)"
      ],
      "metadata": {
        "colab": {
          "base_uri": "https://localhost:8080/"
        },
        "id": "jNwJorV-qTMt",
        "outputId": "3b1547ba-68f5-4212-b9c4-f2a1fd91ac6c"
      },
      "execution_count": 44,
      "outputs": [
        {
          "output_type": "stream",
          "name": "stdout",
          "text": [
            "resume matches by 32.301219097991726\n"
          ]
        }
      ]
    },
    {
      "cell_type": "code",
      "source": [],
      "metadata": {
        "id": "syae63OQqlUi"
      },
      "execution_count": 44,
      "outputs": []
    }
  ]
}